{
 "cells": [
  {
   "cell_type": "code",
   "execution_count": 3,
   "metadata": {},
   "outputs": [],
   "source": [
    "from scipy import io\n",
    "import numpy as np"
   ]
  },
  {
   "cell_type": "code",
   "execution_count": 4,
   "metadata": {},
   "outputs": [],
   "source": [
    "data = io.loadmat('AB3X.mat')['AB3X']\n",
    "signal = np.array(data)\n",
    "signal = signal\n",
    "sample_rate = 20480\n",
    "sample_interval = 2 * 60 * 60 \n",
    "samples_per_interval = sample_rate * sample_interval \n",
    "num_intervals = 133"
   ]
  },
  {
   "cell_type": "code",
   "execution_count": 21,
   "metadata": {},
   "outputs": [
    {
     "data": {
      "text/plain": [
       "(20480, 133)"
      ]
     },
     "execution_count": 21,
     "metadata": {},
     "output_type": "execute_result"
    }
   ],
   "source": [
    "data.shape"
   ]
  },
  {
   "cell_type": "code",
   "execution_count": 22,
   "metadata": {},
   "outputs": [
    {
     "name": "stdout",
     "output_type": "stream",
     "text": [
      "1.074709263010234\n",
      "1.155\n"
     ]
    }
   ],
   "source": [
    "X_pp = np.max(signal, axis=0) - np.min(signal, axis=0)\n",
    "test = data[:,1]\n",
    "print(X_pp[1])\n",
    "print(max(test)-min(test))"
   ]
  },
  {
   "cell_type": "code",
   "execution_count": 23,
   "metadata": {},
   "outputs": [
    {
     "name": "stdout",
     "output_type": "stream",
     "text": [
      "0.15886009208552623\n",
      "0.025236528857421878\n"
     ]
    }
   ],
   "source": [
    "X_rms2 = np.mean(np.square(data), axis=0)\n",
    "print(X_rms2[1])\n",
    "test = data[:,1]\n",
    "\n",
    "print(pow(test.mean(), 2) + pow(test.std(), 2))\n"
   ]
  },
  {
   "cell_type": "code",
   "execution_count": 18,
   "metadata": {},
   "outputs": [
    {
     "data": {
      "text/plain": [
       "array([1., 2., 3.])"
      ]
     },
     "execution_count": 18,
     "metadata": {},
     "output_type": "execute_result"
    }
   ],
   "source": [
    "np.sqrt([1,4,9])"
   ]
  }
 ],
 "metadata": {
  "kernelspec": {
   "display_name": "base",
   "language": "python",
   "name": "python3"
  },
  "language_info": {
   "codemirror_mode": {
    "name": "ipython",
    "version": 3
   },
   "file_extension": ".py",
   "mimetype": "text/x-python",
   "name": "python",
   "nbconvert_exporter": "python",
   "pygments_lexer": "ipython3",
   "version": "3.9.16"
  },
  "orig_nbformat": 4
 },
 "nbformat": 4,
 "nbformat_minor": 2
}
